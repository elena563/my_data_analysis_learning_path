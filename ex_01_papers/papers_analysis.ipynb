{
 "cells": [
  {
   "cell_type": "markdown",
   "metadata": {},
   "source": [
    "# Python Case Study - Papers"
   ]
  },
  {
   "cell_type": "markdown",
   "metadata": {},
   "source": [
    "The goal of this exercise is to explore a dataset of 10,000 Computer Science papers, compiled in a CSV file through web scraping. Mission: gain insights through descriptive analysis, evaluate data quality, and query them."
   ]
  },
  {
   "cell_type": "markdown",
   "metadata": {},
   "source": [
    "## Data Quality Assessment"
   ]
  },
  {
   "cell_type": "markdown",
   "metadata": {},
   "source": [
    "Goal: investigate for missing values, duplicates, and any inconsistencies. Propose solutions to improve the dataset's quality."
   ]
  },
  {
   "cell_type": "markdown",
   "metadata": {},
   "source": [
    "In order to clean data well, it is necessary to verify that records are correctly read."
   ]
  },
  {
   "cell_type": "code",
   "execution_count": 3,
   "metadata": {},
   "outputs": [],
   "source": [
    "import pandas as pd\n",
    "\n",
    "df = pd.read_csv(\"papers.csv\", quotechar='\"')"
   ]
  },
  {
   "cell_type": "markdown",
   "metadata": {},
   "source": [
    "At first glance, I noticed that some records spanned multiple rows due to the presence of \"/n\" in certain values. Additionally, some values contained commas, which could interfere with field separation.\n",
    "To address this, I added the **quotechar** argument to the read statement to ensure that text enclosed in quotation marks remained within the same field. Finally, while I confirmed that commas were indeed problematic, I could not say the same about \"/n\"."
   ]
  },
  {
   "cell_type": "code",
   "execution_count": 4,
   "metadata": {},
   "outputs": [
    {
     "data": {
      "text/plain": [
       "(10000, 7)"
      ]
     },
     "execution_count": 4,
     "metadata": {},
     "output_type": "execute_result"
    }
   ],
   "source": [
    "df.shape"
   ]
  },
  {
   "cell_type": "code",
   "execution_count": 5,
   "metadata": {},
   "outputs": [
    {
     "data": {
      "text/html": [
       "<div>\n",
       "<style scoped>\n",
       "    .dataframe tbody tr th:only-of-type {\n",
       "        vertical-align: middle;\n",
       "    }\n",
       "\n",
       "    .dataframe tbody tr th {\n",
       "        vertical-align: top;\n",
       "    }\n",
       "\n",
       "    .dataframe thead th {\n",
       "        text-align: right;\n",
       "    }\n",
       "</style>\n",
       "<table border=\"1\" class=\"dataframe\">\n",
       "  <thead>\n",
       "    <tr style=\"text-align: right;\">\n",
       "      <th></th>\n",
       "      <th>date</th>\n",
       "      <th>abstract</th>\n",
       "      <th>title</th>\n",
       "      <th>authors</th>\n",
       "      <th>subjects</th>\n",
       "      <th>venue</th>\n",
       "      <th>importing_date</th>\n",
       "    </tr>\n",
       "  </thead>\n",
       "  <tbody>\n",
       "    <tr>\n",
       "      <th>0</th>\n",
       "      <td>2021-10-25 05:17:04</td>\n",
       "      <td>For a long time, bone marrow cell morphology e...</td>\n",
       "      <td>Bone Marrow Cell Recognition: Training Deep Ob...</td>\n",
       "      <td>Dehao Huang, Jintao Cheng, Rui Fan, Zhihao Su,...</td>\n",
       "      <td>Computer Vision and Pattern Recognition (cs.CV)</td>\n",
       "      <td>arxiv</td>\n",
       "      <td>NaN</td>\n",
       "    </tr>\n",
       "    <tr>\n",
       "      <th>1</th>\n",
       "      <td>2014-06-05 23:35:17</td>\n",
       "      <td>It is assumed that under suitable economic and...</td>\n",
       "      <td>Arbitrage-free exchange rate ensembles over a ...</td>\n",
       "      <td>Stan Palasek</td>\n",
       "      <td>General Economics (econ.GN); Social and Inform...</td>\n",
       "      <td>arxiv</td>\n",
       "      <td>NaN</td>\n",
       "    </tr>\n",
       "    <tr>\n",
       "      <th>2</th>\n",
       "      <td>2023-03-17 16:26:03</td>\n",
       "      <td>Physics-based covariance models provide a syst...</td>\n",
       "      <td>Scalable Physics-based Maximum Likelihood Esti...</td>\n",
       "      <td>Yian Chen, Mihai Anitescu</td>\n",
       "      <td>Computation (stat.CO); Numerical Analysis (mat...</td>\n",
       "      <td>arxiv</td>\n",
       "      <td>NaN</td>\n",
       "    </tr>\n",
       "    <tr>\n",
       "      <th>3</th>\n",
       "      <td>NaN</td>\n",
       "      <td>incorrect id format for 2210.156</td>\n",
       "      <td>Automatic extraction of materials and properti...</td>\n",
       "      <td>Luca Foppiano, Pedro Baptista de Castro, Pedro...</td>\n",
       "      <td>Computation and Language (cs.CL); Superconduct...</td>\n",
       "      <td>arxiv</td>\n",
       "      <td>NaN</td>\n",
       "    </tr>\n",
       "    <tr>\n",
       "      <th>4</th>\n",
       "      <td>2017-12-04 16:26:52</td>\n",
       "      <td>This paper presents a new isogeometric mortar ...</td>\n",
       "      <td>A segmentation-free isogeometric extended mort...</td>\n",
       "      <td>Thang Xuan Duong, Laura De Lorenzis, Roger A. ...</td>\n",
       "      <td>Computational Engineering, Finance, and Scienc...</td>\n",
       "      <td>arxiv</td>\n",
       "      <td>NaN</td>\n",
       "    </tr>\n",
       "  </tbody>\n",
       "</table>\n",
       "</div>"
      ],
      "text/plain": [
       "                  date                                           abstract  \\\n",
       "0  2021-10-25 05:17:04  For a long time, bone marrow cell morphology e...   \n",
       "1  2014-06-05 23:35:17  It is assumed that under suitable economic and...   \n",
       "2  2023-03-17 16:26:03  Physics-based covariance models provide a syst...   \n",
       "3                  NaN                   incorrect id format for 2210.156   \n",
       "4  2017-12-04 16:26:52  This paper presents a new isogeometric mortar ...   \n",
       "\n",
       "                                               title  \\\n",
       "0  Bone Marrow Cell Recognition: Training Deep Ob...   \n",
       "1  Arbitrage-free exchange rate ensembles over a ...   \n",
       "2  Scalable Physics-based Maximum Likelihood Esti...   \n",
       "3  Automatic extraction of materials and properti...   \n",
       "4  A segmentation-free isogeometric extended mort...   \n",
       "\n",
       "                                             authors  \\\n",
       "0  Dehao Huang, Jintao Cheng, Rui Fan, Zhihao Su,...   \n",
       "1                                       Stan Palasek   \n",
       "2                          Yian Chen, Mihai Anitescu   \n",
       "3  Luca Foppiano, Pedro Baptista de Castro, Pedro...   \n",
       "4  Thang Xuan Duong, Laura De Lorenzis, Roger A. ...   \n",
       "\n",
       "                                            subjects  venue importing_date  \n",
       "0    Computer Vision and Pattern Recognition (cs.CV)  arxiv            NaN  \n",
       "1  General Economics (econ.GN); Social and Inform...  arxiv            NaN  \n",
       "2  Computation (stat.CO); Numerical Analysis (mat...  arxiv            NaN  \n",
       "3  Computation and Language (cs.CL); Superconduct...  arxiv            NaN  \n",
       "4  Computational Engineering, Finance, and Scienc...  arxiv            NaN  "
      ]
     },
     "execution_count": 5,
     "metadata": {},
     "output_type": "execute_result"
    }
   ],
   "source": [
    "df.head()"
   ]
  },
  {
   "cell_type": "code",
   "execution_count": 6,
   "metadata": {},
   "outputs": [
    {
     "data": {
      "text/html": [
       "<div>\n",
       "<style scoped>\n",
       "    .dataframe tbody tr th:only-of-type {\n",
       "        vertical-align: middle;\n",
       "    }\n",
       "\n",
       "    .dataframe tbody tr th {\n",
       "        vertical-align: top;\n",
       "    }\n",
       "\n",
       "    .dataframe thead th {\n",
       "        text-align: right;\n",
       "    }\n",
       "</style>\n",
       "<table border=\"1\" class=\"dataframe\">\n",
       "  <thead>\n",
       "    <tr style=\"text-align: right;\">\n",
       "      <th></th>\n",
       "      <th>date</th>\n",
       "      <th>abstract</th>\n",
       "      <th>title</th>\n",
       "      <th>authors</th>\n",
       "      <th>subjects</th>\n",
       "      <th>venue</th>\n",
       "      <th>importing_date</th>\n",
       "    </tr>\n",
       "  </thead>\n",
       "  <tbody>\n",
       "    <tr>\n",
       "      <th>9995</th>\n",
       "      <td>2020-12-17 22:49:02</td>\n",
       "      <td>In this work, a system for creating a relighta...</td>\n",
       "      <td>Relightable 3D Head Portraits from a Smartphon...</td>\n",
       "      <td>Artem Sevastopolsky, Savva Ignatiev, Gonzalo F...</td>\n",
       "      <td>Computer Vision and Pattern Recognition (cs.CV)</td>\n",
       "      <td>arxiv</td>\n",
       "      <td>NaN</td>\n",
       "    </tr>\n",
       "    <tr>\n",
       "      <th>9996</th>\n",
       "      <td>2022-08-24 01:04:47</td>\n",
       "      <td>Transformer-based methods have achieved impres...</td>\n",
       "      <td>SwinFIR: Revisiting the SwinIR with Fast Fouri...</td>\n",
       "      <td>Dafeng Zhang, Feiyu Huang, Shizhuo Liu, Xiaobi...</td>\n",
       "      <td>Computer Vision and Pattern Recognition (cs.CV)</td>\n",
       "      <td>arxiv</td>\n",
       "      <td>NaN</td>\n",
       "    </tr>\n",
       "    <tr>\n",
       "      <th>9997</th>\n",
       "      <td>NaN</td>\n",
       "      <td>NaN</td>\n",
       "      <td>Random Projection Trees Revisited.</td>\n",
       "      <td>NaN</td>\n",
       "      <td>NaN</td>\n",
       "      <td>nips</td>\n",
       "      <td>2024-03-02</td>\n",
       "    </tr>\n",
       "    <tr>\n",
       "      <th>9998</th>\n",
       "      <td>2021-09-28 10:18:27</td>\n",
       "      <td>In this paper, we introduce a compositional me...</td>\n",
       "      <td>Compositional Abstractions of Interconnected D...</td>\n",
       "      <td>Abdalla Swikir, Majid Zamani</td>\n",
       "      <td>Systems and Control (eess.SY)</td>\n",
       "      <td>arxiv</td>\n",
       "      <td>NaN</td>\n",
       "    </tr>\n",
       "    <tr>\n",
       "      <th>9999</th>\n",
       "      <td>2023-05-24 15:09:41</td>\n",
       "      <td>Manifolds discovered by machine learning model...</td>\n",
       "      <td>Short and Straight: Geodesics on Differentiabl...</td>\n",
       "      <td>Daniel Kelshaw, Luca Magri</td>\n",
       "      <td>Machine Learning (cs.LG); Computational Geomet...</td>\n",
       "      <td>arxiv</td>\n",
       "      <td>NaN</td>\n",
       "    </tr>\n",
       "  </tbody>\n",
       "</table>\n",
       "</div>"
      ],
      "text/plain": [
       "                     date                                           abstract  \\\n",
       "9995  2020-12-17 22:49:02  In this work, a system for creating a relighta...   \n",
       "9996  2022-08-24 01:04:47  Transformer-based methods have achieved impres...   \n",
       "9997                  NaN                                                NaN   \n",
       "9998  2021-09-28 10:18:27  In this paper, we introduce a compositional me...   \n",
       "9999  2023-05-24 15:09:41  Manifolds discovered by machine learning model...   \n",
       "\n",
       "                                                  title  \\\n",
       "9995  Relightable 3D Head Portraits from a Smartphon...   \n",
       "9996  SwinFIR: Revisiting the SwinIR with Fast Fouri...   \n",
       "9997                 Random Projection Trees Revisited.   \n",
       "9998  Compositional Abstractions of Interconnected D...   \n",
       "9999  Short and Straight: Geodesics on Differentiabl...   \n",
       "\n",
       "                                                authors  \\\n",
       "9995  Artem Sevastopolsky, Savva Ignatiev, Gonzalo F...   \n",
       "9996  Dafeng Zhang, Feiyu Huang, Shizhuo Liu, Xiaobi...   \n",
       "9997                                                NaN   \n",
       "9998                       Abdalla Swikir, Majid Zamani   \n",
       "9999                         Daniel Kelshaw, Luca Magri   \n",
       "\n",
       "                                               subjects  venue importing_date  \n",
       "9995    Computer Vision and Pattern Recognition (cs.CV)  arxiv            NaN  \n",
       "9996    Computer Vision and Pattern Recognition (cs.CV)  arxiv            NaN  \n",
       "9997                                                NaN   nips     2024-03-02  \n",
       "9998                      Systems and Control (eess.SY)  arxiv            NaN  \n",
       "9999  Machine Learning (cs.LG); Computational Geomet...  arxiv            NaN  "
      ]
     },
     "execution_count": 6,
     "metadata": {},
     "output_type": "execute_result"
    }
   ],
   "source": [
    "df.tail()"
   ]
  },
  {
   "cell_type": "markdown",
   "metadata": {},
   "source": [
    "The following step is to find and manage **missing data**."
   ]
  },
  {
   "cell_type": "code",
   "execution_count": 7,
   "metadata": {},
   "outputs": [
    {
     "data": {
      "text/plain": [
       "date              2934\n",
       "abstract          2645\n",
       "title                0\n",
       "authors           2645\n",
       "subjects          2645\n",
       "venue                0\n",
       "importing_date    7355\n",
       "dtype: int64"
      ]
     },
     "execution_count": 7,
     "metadata": {},
     "output_type": "execute_result"
    }
   ],
   "source": [
    "df.isnull().sum()"
   ]
  },
  {
   "cell_type": "markdown",
   "metadata": {},
   "source": [
    "There are many missing values. We have 0 in just two columns: title and value.\n",
    "One field in particular is problematic: **importing_date**. It has more than 70% missing values.\n",
    "However, looking at the values it assumes, it doesn't seem to be a very important variable, so it can be removed from dataframe."
   ]
  },
  {
   "cell_type": "code",
   "execution_count": 8,
   "metadata": {},
   "outputs": [
    {
     "data": {
      "text/plain": [
       "array([nan, '2024-03-03', '2024-03-02'], dtype=object)"
      ]
     },
     "execution_count": 8,
     "metadata": {},
     "output_type": "execute_result"
    }
   ],
   "source": [
    "df[\"importing_date\"].unique()"
   ]
  },
  {
   "cell_type": "code",
   "execution_count": 9,
   "metadata": {},
   "outputs": [
    {
     "data": {
      "text/html": [
       "<div>\n",
       "<style scoped>\n",
       "    .dataframe tbody tr th:only-of-type {\n",
       "        vertical-align: middle;\n",
       "    }\n",
       "\n",
       "    .dataframe tbody tr th {\n",
       "        vertical-align: top;\n",
       "    }\n",
       "\n",
       "    .dataframe thead th {\n",
       "        text-align: right;\n",
       "    }\n",
       "</style>\n",
       "<table border=\"1\" class=\"dataframe\">\n",
       "  <thead>\n",
       "    <tr style=\"text-align: right;\">\n",
       "      <th></th>\n",
       "      <th>date</th>\n",
       "      <th>abstract</th>\n",
       "      <th>title</th>\n",
       "      <th>authors</th>\n",
       "      <th>subjects</th>\n",
       "      <th>venue</th>\n",
       "    </tr>\n",
       "  </thead>\n",
       "  <tbody>\n",
       "    <tr>\n",
       "      <th>0</th>\n",
       "      <td>2021-10-25 05:17:04</td>\n",
       "      <td>For a long time, bone marrow cell morphology e...</td>\n",
       "      <td>Bone Marrow Cell Recognition: Training Deep Ob...</td>\n",
       "      <td>Dehao Huang, Jintao Cheng, Rui Fan, Zhihao Su,...</td>\n",
       "      <td>Computer Vision and Pattern Recognition (cs.CV)</td>\n",
       "      <td>arxiv</td>\n",
       "    </tr>\n",
       "    <tr>\n",
       "      <th>1</th>\n",
       "      <td>2014-06-05 23:35:17</td>\n",
       "      <td>It is assumed that under suitable economic and...</td>\n",
       "      <td>Arbitrage-free exchange rate ensembles over a ...</td>\n",
       "      <td>Stan Palasek</td>\n",
       "      <td>General Economics (econ.GN); Social and Inform...</td>\n",
       "      <td>arxiv</td>\n",
       "    </tr>\n",
       "    <tr>\n",
       "      <th>2</th>\n",
       "      <td>2023-03-17 16:26:03</td>\n",
       "      <td>Physics-based covariance models provide a syst...</td>\n",
       "      <td>Scalable Physics-based Maximum Likelihood Esti...</td>\n",
       "      <td>Yian Chen, Mihai Anitescu</td>\n",
       "      <td>Computation (stat.CO); Numerical Analysis (mat...</td>\n",
       "      <td>arxiv</td>\n",
       "    </tr>\n",
       "    <tr>\n",
       "      <th>3</th>\n",
       "      <td>NaN</td>\n",
       "      <td>incorrect id format for 2210.156</td>\n",
       "      <td>Automatic extraction of materials and properti...</td>\n",
       "      <td>Luca Foppiano, Pedro Baptista de Castro, Pedro...</td>\n",
       "      <td>Computation and Language (cs.CL); Superconduct...</td>\n",
       "      <td>arxiv</td>\n",
       "    </tr>\n",
       "    <tr>\n",
       "      <th>4</th>\n",
       "      <td>2017-12-04 16:26:52</td>\n",
       "      <td>This paper presents a new isogeometric mortar ...</td>\n",
       "      <td>A segmentation-free isogeometric extended mort...</td>\n",
       "      <td>Thang Xuan Duong, Laura De Lorenzis, Roger A. ...</td>\n",
       "      <td>Computational Engineering, Finance, and Scienc...</td>\n",
       "      <td>arxiv</td>\n",
       "    </tr>\n",
       "  </tbody>\n",
       "</table>\n",
       "</div>"
      ],
      "text/plain": [
       "                  date                                           abstract  \\\n",
       "0  2021-10-25 05:17:04  For a long time, bone marrow cell morphology e...   \n",
       "1  2014-06-05 23:35:17  It is assumed that under suitable economic and...   \n",
       "2  2023-03-17 16:26:03  Physics-based covariance models provide a syst...   \n",
       "3                  NaN                   incorrect id format for 2210.156   \n",
       "4  2017-12-04 16:26:52  This paper presents a new isogeometric mortar ...   \n",
       "\n",
       "                                               title  \\\n",
       "0  Bone Marrow Cell Recognition: Training Deep Ob...   \n",
       "1  Arbitrage-free exchange rate ensembles over a ...   \n",
       "2  Scalable Physics-based Maximum Likelihood Esti...   \n",
       "3  Automatic extraction of materials and properti...   \n",
       "4  A segmentation-free isogeometric extended mort...   \n",
       "\n",
       "                                             authors  \\\n",
       "0  Dehao Huang, Jintao Cheng, Rui Fan, Zhihao Su,...   \n",
       "1                                       Stan Palasek   \n",
       "2                          Yian Chen, Mihai Anitescu   \n",
       "3  Luca Foppiano, Pedro Baptista de Castro, Pedro...   \n",
       "4  Thang Xuan Duong, Laura De Lorenzis, Roger A. ...   \n",
       "\n",
       "                                            subjects  venue  \n",
       "0    Computer Vision and Pattern Recognition (cs.CV)  arxiv  \n",
       "1  General Economics (econ.GN); Social and Inform...  arxiv  \n",
       "2  Computation (stat.CO); Numerical Analysis (mat...  arxiv  \n",
       "3  Computation and Language (cs.CL); Superconduct...  arxiv  \n",
       "4  Computational Engineering, Finance, and Scienc...  arxiv  "
      ]
     },
     "execution_count": 9,
     "metadata": {},
     "output_type": "execute_result"
    }
   ],
   "source": [
    "df1 = df.drop([\"importing_date\"], axis=1)\n",
    "df1.head()"
   ]
  },
  {
   "cell_type": "code",
   "execution_count": 10,
   "metadata": {},
   "outputs": [
    {
     "data": {
      "text/plain": [
       "date        2934\n",
       "abstract    2645\n",
       "title          0\n",
       "authors     2645\n",
       "subjects    2645\n",
       "venue          0\n",
       "dtype: int64"
      ]
     },
     "execution_count": 10,
     "metadata": {},
     "output_type": "execute_result"
    }
   ],
   "source": [
    "df1.isnull().sum()"
   ]
  },
  {
   "cell_type": "markdown",
   "metadata": {},
   "source": [
    "There are still too many missing, from 26 to almost 30% of data in each of the four columns. It's too much to ignore or drop them all.\n",
    "So, I decided to analyze NaN values by row as well. I want to see if there are rows with many missing fields."
   ]
  },
  {
   "cell_type": "code",
   "execution_count": 11,
   "metadata": {},
   "outputs": [
    {
     "data": {
      "text/plain": [
       "20      4\n",
       "18      4\n",
       "31      4\n",
       "30      4\n",
       "9989    4\n",
       "       ..\n",
       "19      1\n",
       "9999    1\n",
       "21      1\n",
       "22      1\n",
       "12      1\n",
       "Length: 10000, dtype: int64"
      ]
     },
     "execution_count": 11,
     "metadata": {},
     "output_type": "execute_result"
    }
   ],
   "source": [
    "record_na = df.isna().sum(axis=1)\n",
    "record_na.sort_values(ascending=False)"
   ]
  },
  {
   "cell_type": "code",
   "execution_count": 12,
   "metadata": {},
   "outputs": [
    {
     "data": {
      "text/plain": [
       "np.int64(2645)"
      ]
     },
     "execution_count": 12,
     "metadata": {},
     "output_type": "execute_result"
    }
   ],
   "source": [
    "(record_na == 4).sum()"
   ]
  },
  {
   "cell_type": "markdown",
   "metadata": {},
   "source": [
    "I discovered that there are 2645 records with 4 missing values out of 6, more than half the fields! Abstract, Subject and Author are surely relevant values for our analysis, so I decided to drop all this useless records. I lost 27% of my dataframe."
   ]
  },
  {
   "cell_type": "code",
   "execution_count": 13,
   "metadata": {},
   "outputs": [
    {
     "data": {
      "text/plain": [
       "(7355, 6)"
      ]
     },
     "execution_count": 13,
     "metadata": {},
     "output_type": "execute_result"
    }
   ],
   "source": [
    "\n",
    "\n",
    "df2 = df1.drop(index=record_na[record_na == 4].index)\n",
    "df2.shape"
   ]
  },
  {
   "cell_type": "markdown",
   "metadata": {},
   "source": [
    "but now it is more clean than before"
   ]
  },
  {
   "cell_type": "code",
   "execution_count": 14,
   "metadata": {},
   "outputs": [
    {
     "data": {
      "text/html": [
       "<div>\n",
       "<style scoped>\n",
       "    .dataframe tbody tr th:only-of-type {\n",
       "        vertical-align: middle;\n",
       "    }\n",
       "\n",
       "    .dataframe tbody tr th {\n",
       "        vertical-align: top;\n",
       "    }\n",
       "\n",
       "    .dataframe thead th {\n",
       "        text-align: right;\n",
       "    }\n",
       "</style>\n",
       "<table border=\"1\" class=\"dataframe\">\n",
       "  <thead>\n",
       "    <tr style=\"text-align: right;\">\n",
       "      <th></th>\n",
       "      <th>date</th>\n",
       "      <th>abstract</th>\n",
       "      <th>title</th>\n",
       "      <th>authors</th>\n",
       "      <th>subjects</th>\n",
       "      <th>venue</th>\n",
       "    </tr>\n",
       "  </thead>\n",
       "  <tbody>\n",
       "    <tr>\n",
       "      <th>0</th>\n",
       "      <td>2021-10-25 05:17:04</td>\n",
       "      <td>For a long time, bone marrow cell morphology e...</td>\n",
       "      <td>Bone Marrow Cell Recognition: Training Deep Ob...</td>\n",
       "      <td>Dehao Huang, Jintao Cheng, Rui Fan, Zhihao Su,...</td>\n",
       "      <td>Computer Vision and Pattern Recognition (cs.CV)</td>\n",
       "      <td>arxiv</td>\n",
       "    </tr>\n",
       "    <tr>\n",
       "      <th>1</th>\n",
       "      <td>2014-06-05 23:35:17</td>\n",
       "      <td>It is assumed that under suitable economic and...</td>\n",
       "      <td>Arbitrage-free exchange rate ensembles over a ...</td>\n",
       "      <td>Stan Palasek</td>\n",
       "      <td>General Economics (econ.GN); Social and Inform...</td>\n",
       "      <td>arxiv</td>\n",
       "    </tr>\n",
       "    <tr>\n",
       "      <th>2</th>\n",
       "      <td>2023-03-17 16:26:03</td>\n",
       "      <td>Physics-based covariance models provide a syst...</td>\n",
       "      <td>Scalable Physics-based Maximum Likelihood Esti...</td>\n",
       "      <td>Yian Chen, Mihai Anitescu</td>\n",
       "      <td>Computation (stat.CO); Numerical Analysis (mat...</td>\n",
       "      <td>arxiv</td>\n",
       "    </tr>\n",
       "    <tr>\n",
       "      <th>3</th>\n",
       "      <td>NaN</td>\n",
       "      <td>incorrect id format for 2210.156</td>\n",
       "      <td>Automatic extraction of materials and properti...</td>\n",
       "      <td>Luca Foppiano, Pedro Baptista de Castro, Pedro...</td>\n",
       "      <td>Computation and Language (cs.CL); Superconduct...</td>\n",
       "      <td>arxiv</td>\n",
       "    </tr>\n",
       "    <tr>\n",
       "      <th>4</th>\n",
       "      <td>2017-12-04 16:26:52</td>\n",
       "      <td>This paper presents a new isogeometric mortar ...</td>\n",
       "      <td>A segmentation-free isogeometric extended mort...</td>\n",
       "      <td>Thang Xuan Duong, Laura De Lorenzis, Roger A. ...</td>\n",
       "      <td>Computational Engineering, Finance, and Scienc...</td>\n",
       "      <td>arxiv</td>\n",
       "    </tr>\n",
       "  </tbody>\n",
       "</table>\n",
       "</div>"
      ],
      "text/plain": [
       "                  date                                           abstract  \\\n",
       "0  2021-10-25 05:17:04  For a long time, bone marrow cell morphology e...   \n",
       "1  2014-06-05 23:35:17  It is assumed that under suitable economic and...   \n",
       "2  2023-03-17 16:26:03  Physics-based covariance models provide a syst...   \n",
       "3                  NaN                   incorrect id format for 2210.156   \n",
       "4  2017-12-04 16:26:52  This paper presents a new isogeometric mortar ...   \n",
       "\n",
       "                                               title  \\\n",
       "0  Bone Marrow Cell Recognition: Training Deep Ob...   \n",
       "1  Arbitrage-free exchange rate ensembles over a ...   \n",
       "2  Scalable Physics-based Maximum Likelihood Esti...   \n",
       "3  Automatic extraction of materials and properti...   \n",
       "4  A segmentation-free isogeometric extended mort...   \n",
       "\n",
       "                                             authors  \\\n",
       "0  Dehao Huang, Jintao Cheng, Rui Fan, Zhihao Su,...   \n",
       "1                                       Stan Palasek   \n",
       "2                          Yian Chen, Mihai Anitescu   \n",
       "3  Luca Foppiano, Pedro Baptista de Castro, Pedro...   \n",
       "4  Thang Xuan Duong, Laura De Lorenzis, Roger A. ...   \n",
       "\n",
       "                                            subjects  venue  \n",
       "0    Computer Vision and Pattern Recognition (cs.CV)  arxiv  \n",
       "1  General Economics (econ.GN); Social and Inform...  arxiv  \n",
       "2  Computation (stat.CO); Numerical Analysis (mat...  arxiv  \n",
       "3  Computation and Language (cs.CL); Superconduct...  arxiv  \n",
       "4  Computational Engineering, Finance, and Scienc...  arxiv  "
      ]
     },
     "execution_count": 14,
     "metadata": {},
     "output_type": "execute_result"
    }
   ],
   "source": [
    "df2.head()"
   ]
  },
  {
   "cell_type": "code",
   "execution_count": 15,
   "metadata": {},
   "outputs": [
    {
     "data": {
      "text/plain": [
       "date        289\n",
       "abstract      0\n",
       "title         0\n",
       "authors       0\n",
       "subjects      0\n",
       "venue         0\n",
       "dtype: int64"
      ]
     },
     "execution_count": 15,
     "metadata": {},
     "output_type": "execute_result"
    }
   ],
   "source": [
    "df2.isnull().sum()"
   ]
  },
  {
   "cell_type": "markdown",
   "metadata": {},
   "source": [
    "We still have some missing dates, but probably it's not so important, and they are only 3.9% of remaining record, so I'll leave them."
   ]
  },
  {
   "cell_type": "code",
   "execution_count": 16,
   "metadata": {},
   "outputs": [
    {
     "data": {
      "text/html": [
       "<div>\n",
       "<style scoped>\n",
       "    .dataframe tbody tr th:only-of-type {\n",
       "        vertical-align: middle;\n",
       "    }\n",
       "\n",
       "    .dataframe tbody tr th {\n",
       "        vertical-align: top;\n",
       "    }\n",
       "\n",
       "    .dataframe thead th {\n",
       "        text-align: right;\n",
       "    }\n",
       "</style>\n",
       "<table border=\"1\" class=\"dataframe\">\n",
       "  <thead>\n",
       "    <tr style=\"text-align: right;\">\n",
       "      <th></th>\n",
       "      <th>date</th>\n",
       "      <th>abstract</th>\n",
       "      <th>title</th>\n",
       "      <th>authors</th>\n",
       "      <th>subjects</th>\n",
       "      <th>venue</th>\n",
       "    </tr>\n",
       "  </thead>\n",
       "  <tbody>\n",
       "    <tr>\n",
       "      <th>3849</th>\n",
       "      <td>2024-02-18 17:17:17</td>\n",
       "      <td>In this paper, we revisit model-free policy se...</td>\n",
       "      <td>Model-Free μ -Synthesis: A Nonsmooth Optimizat...</td>\n",
       "      <td>Darioush Keivan, Xingang Guo, Peter Seiler, Ge...</td>\n",
       "      <td>Optimization and Control (math.OC); Machine Le...</td>\n",
       "      <td>arxiv</td>\n",
       "    </tr>\n",
       "    <tr>\n",
       "      <th>9682</th>\n",
       "      <td>2024-02-18 17:17:17</td>\n",
       "      <td>In this paper, we revisit model-free policy se...</td>\n",
       "      <td>Model-Free μ -Synthesis: A Nonsmooth Optimizat...</td>\n",
       "      <td>Darioush Keivan, Xingang Guo, Peter Seiler, Ge...</td>\n",
       "      <td>Optimization and Control (math.OC); Machine Le...</td>\n",
       "      <td>arxiv</td>\n",
       "    </tr>\n",
       "    <tr>\n",
       "      <th>450</th>\n",
       "      <td>2024-02-08 16:54:20</td>\n",
       "      <td>Introduction This study explores the use of th...</td>\n",
       "      <td>Using YOLO v7 to Detect Kidney in Magnetic Res...</td>\n",
       "      <td>Pouria Yazdian Anari, Fiona Obiezu, Nathan Lay...</td>\n",
       "      <td>Image and Video Processing (eess.IV); Computer...</td>\n",
       "      <td>arxiv</td>\n",
       "    </tr>\n",
       "    <tr>\n",
       "      <th>2638</th>\n",
       "      <td>2024-02-08 16:54:20</td>\n",
       "      <td>Introduction This study explores the use of th...</td>\n",
       "      <td>Using YOLO v7 to Detect Kidney in Magnetic Res...</td>\n",
       "      <td>Pouria Yazdian Anari, Fiona Obiezu, Nathan Lay...</td>\n",
       "      <td>Image and Video Processing (eess.IV); Computer...</td>\n",
       "      <td>arxiv</td>\n",
       "    </tr>\n",
       "    <tr>\n",
       "      <th>3397</th>\n",
       "      <td>2024-02-03 16:03:17</td>\n",
       "      <td>The rapid growth of automated and autonomous i...</td>\n",
       "      <td>Multimodal Co-orchestration for Exploring Stru...</td>\n",
       "      <td>Boris N. Slautin, Utkarsh Pratiush, Ilia N. Iv...</td>\n",
       "      <td>Materials Science (cond-mat.mtrl-sci); Machine...</td>\n",
       "      <td>arxiv</td>\n",
       "    </tr>\n",
       "    <tr>\n",
       "      <th>6346</th>\n",
       "      <td>2024-02-03 16:03:17</td>\n",
       "      <td>The rapid growth of automated and autonomous i...</td>\n",
       "      <td>Multimodal Co-orchestration for Exploring Stru...</td>\n",
       "      <td>Boris N. Slautin, Utkarsh Pratiush, Ilia N. Iv...</td>\n",
       "      <td>Materials Science (cond-mat.mtrl-sci); Machine...</td>\n",
       "      <td>arxiv</td>\n",
       "    </tr>\n",
       "    <tr>\n",
       "      <th>2321</th>\n",
       "      <td>2024-02-16 08:21:43</td>\n",
       "      <td>The strengthening of tensions in the cosmologi...</td>\n",
       "      <td>Late-time transition of M B inferred via neura...</td>\n",
       "      <td>Purba Mukherjee, Konstantinos F. Dialektopoulo...</td>\n",
       "      <td>Cosmology and Nongalactic Astrophysics (astro-...</td>\n",
       "      <td>arxiv</td>\n",
       "    </tr>\n",
       "    <tr>\n",
       "      <th>3992</th>\n",
       "      <td>2024-02-16 08:21:43</td>\n",
       "      <td>The strengthening of tensions in the cosmologi...</td>\n",
       "      <td>Late-time transition of M B inferred via neura...</td>\n",
       "      <td>Purba Mukherjee, Konstantinos F. Dialektopoulo...</td>\n",
       "      <td>Cosmology and Nongalactic Astrophysics (astro-...</td>\n",
       "      <td>arxiv</td>\n",
       "    </tr>\n",
       "    <tr>\n",
       "      <th>7486</th>\n",
       "      <td>2024-02-10 19:12:31</td>\n",
       "      <td>This work provides a theoretical framework for...</td>\n",
       "      <td>Generalization Error of Graph Neural Networks ...</td>\n",
       "      <td>Gholamali Aminian, Yixuan He, Gesine Reinert, ...</td>\n",
       "      <td>Machine Learning (stat.ML); Information Theory...</td>\n",
       "      <td>arxiv</td>\n",
       "    </tr>\n",
       "    <tr>\n",
       "      <th>9754</th>\n",
       "      <td>2024-02-10 19:12:31</td>\n",
       "      <td>This work provides a theoretical framework for...</td>\n",
       "      <td>Generalization Error of Graph Neural Networks ...</td>\n",
       "      <td>Gholamali Aminian, Yixuan He, Gesine Reinert, ...</td>\n",
       "      <td>Machine Learning (stat.ML); Information Theory...</td>\n",
       "      <td>arxiv</td>\n",
       "    </tr>\n",
       "    <tr>\n",
       "      <th>6058</th>\n",
       "      <td>2023-12-12 07:54:30</td>\n",
       "      <td>We consider the problem of fairly dividing a s...</td>\n",
       "      <td>The Complexity of Envy-Free Graph Cutting</td>\n",
       "      <td>Argyrios Deligkas, Eduard Eiben, Robert Ganian...</td>\n",
       "      <td>Data Structures and Algorithms (cs.DS); Artifi...</td>\n",
       "      <td>arxiv</td>\n",
       "    </tr>\n",
       "    <tr>\n",
       "      <th>9443</th>\n",
       "      <td>2023-12-12 07:54:30</td>\n",
       "      <td>We consider the problem of fairly dividing a s...</td>\n",
       "      <td>The Complexity of Envy-Free Graph Cutting</td>\n",
       "      <td>Argyrios Deligkas, Eduard Eiben, Robert Ganian...</td>\n",
       "      <td>Data Structures and Algorithms (cs.DS); Artifi...</td>\n",
       "      <td>arxiv</td>\n",
       "    </tr>\n",
       "    <tr>\n",
       "      <th>6506</th>\n",
       "      <td>2024-02-07 17:25:44</td>\n",
       "      <td>We propose a new concept of lifts of reversibl...</td>\n",
       "      <td>Non-reversible lifts of reversible diffusion p...</td>\n",
       "      <td>Andreas Eberle, Francis Lörler</td>\n",
       "      <td>Probability (math.PR); Analysis of PDEs (math....</td>\n",
       "      <td>arxiv</td>\n",
       "    </tr>\n",
       "    <tr>\n",
       "      <th>8653</th>\n",
       "      <td>2024-02-07 17:25:44</td>\n",
       "      <td>We propose a new concept of lifts of reversibl...</td>\n",
       "      <td>Non-reversible lifts of reversible diffusion p...</td>\n",
       "      <td>Andreas Eberle, Francis Lörler</td>\n",
       "      <td>Probability (math.PR); Analysis of PDEs (math....</td>\n",
       "      <td>arxiv</td>\n",
       "    </tr>\n",
       "    <tr>\n",
       "      <th>5300</th>\n",
       "      <td>2024-02-11 21:25:14</td>\n",
       "      <td>We study a novel pure exploration problem: the...</td>\n",
       "      <td>Optimal Thresholding Linear Bandit</td>\n",
       "      <td>Eduardo Ochoa Rivera, Ambuj Tewari</td>\n",
       "      <td>Machine Learning (stat.ML); Machine Learning (...</td>\n",
       "      <td>arxiv</td>\n",
       "    </tr>\n",
       "    <tr>\n",
       "      <th>5697</th>\n",
       "      <td>2024-02-11 21:25:14</td>\n",
       "      <td>We study a novel pure exploration problem: the...</td>\n",
       "      <td>Optimal Thresholding Linear Bandit</td>\n",
       "      <td>Eduardo Ochoa Rivera, Ambuj Tewari</td>\n",
       "      <td>Machine Learning (stat.ML); Machine Learning (...</td>\n",
       "      <td>arxiv</td>\n",
       "    </tr>\n",
       "  </tbody>\n",
       "</table>\n",
       "</div>"
      ],
      "text/plain": [
       "                     date                                           abstract  \\\n",
       "3849  2024-02-18 17:17:17  In this paper, we revisit model-free policy se...   \n",
       "9682  2024-02-18 17:17:17  In this paper, we revisit model-free policy se...   \n",
       "450   2024-02-08 16:54:20  Introduction This study explores the use of th...   \n",
       "2638  2024-02-08 16:54:20  Introduction This study explores the use of th...   \n",
       "3397  2024-02-03 16:03:17  The rapid growth of automated and autonomous i...   \n",
       "6346  2024-02-03 16:03:17  The rapid growth of automated and autonomous i...   \n",
       "2321  2024-02-16 08:21:43  The strengthening of tensions in the cosmologi...   \n",
       "3992  2024-02-16 08:21:43  The strengthening of tensions in the cosmologi...   \n",
       "7486  2024-02-10 19:12:31  This work provides a theoretical framework for...   \n",
       "9754  2024-02-10 19:12:31  This work provides a theoretical framework for...   \n",
       "6058  2023-12-12 07:54:30  We consider the problem of fairly dividing a s...   \n",
       "9443  2023-12-12 07:54:30  We consider the problem of fairly dividing a s...   \n",
       "6506  2024-02-07 17:25:44  We propose a new concept of lifts of reversibl...   \n",
       "8653  2024-02-07 17:25:44  We propose a new concept of lifts of reversibl...   \n",
       "5300  2024-02-11 21:25:14  We study a novel pure exploration problem: the...   \n",
       "5697  2024-02-11 21:25:14  We study a novel pure exploration problem: the...   \n",
       "\n",
       "                                                  title  \\\n",
       "3849  Model-Free μ -Synthesis: A Nonsmooth Optimizat...   \n",
       "9682  Model-Free μ -Synthesis: A Nonsmooth Optimizat...   \n",
       "450   Using YOLO v7 to Detect Kidney in Magnetic Res...   \n",
       "2638  Using YOLO v7 to Detect Kidney in Magnetic Res...   \n",
       "3397  Multimodal Co-orchestration for Exploring Stru...   \n",
       "6346  Multimodal Co-orchestration for Exploring Stru...   \n",
       "2321  Late-time transition of M B inferred via neura...   \n",
       "3992  Late-time transition of M B inferred via neura...   \n",
       "7486  Generalization Error of Graph Neural Networks ...   \n",
       "9754  Generalization Error of Graph Neural Networks ...   \n",
       "6058          The Complexity of Envy-Free Graph Cutting   \n",
       "9443          The Complexity of Envy-Free Graph Cutting   \n",
       "6506  Non-reversible lifts of reversible diffusion p...   \n",
       "8653  Non-reversible lifts of reversible diffusion p...   \n",
       "5300                 Optimal Thresholding Linear Bandit   \n",
       "5697                 Optimal Thresholding Linear Bandit   \n",
       "\n",
       "                                                authors  \\\n",
       "3849  Darioush Keivan, Xingang Guo, Peter Seiler, Ge...   \n",
       "9682  Darioush Keivan, Xingang Guo, Peter Seiler, Ge...   \n",
       "450   Pouria Yazdian Anari, Fiona Obiezu, Nathan Lay...   \n",
       "2638  Pouria Yazdian Anari, Fiona Obiezu, Nathan Lay...   \n",
       "3397  Boris N. Slautin, Utkarsh Pratiush, Ilia N. Iv...   \n",
       "6346  Boris N. Slautin, Utkarsh Pratiush, Ilia N. Iv...   \n",
       "2321  Purba Mukherjee, Konstantinos F. Dialektopoulo...   \n",
       "3992  Purba Mukherjee, Konstantinos F. Dialektopoulo...   \n",
       "7486  Gholamali Aminian, Yixuan He, Gesine Reinert, ...   \n",
       "9754  Gholamali Aminian, Yixuan He, Gesine Reinert, ...   \n",
       "6058  Argyrios Deligkas, Eduard Eiben, Robert Ganian...   \n",
       "9443  Argyrios Deligkas, Eduard Eiben, Robert Ganian...   \n",
       "6506                     Andreas Eberle, Francis Lörler   \n",
       "8653                     Andreas Eberle, Francis Lörler   \n",
       "5300                 Eduardo Ochoa Rivera, Ambuj Tewari   \n",
       "5697                 Eduardo Ochoa Rivera, Ambuj Tewari   \n",
       "\n",
       "                                               subjects  venue  \n",
       "3849  Optimization and Control (math.OC); Machine Le...  arxiv  \n",
       "9682  Optimization and Control (math.OC); Machine Le...  arxiv  \n",
       "450   Image and Video Processing (eess.IV); Computer...  arxiv  \n",
       "2638  Image and Video Processing (eess.IV); Computer...  arxiv  \n",
       "3397  Materials Science (cond-mat.mtrl-sci); Machine...  arxiv  \n",
       "6346  Materials Science (cond-mat.mtrl-sci); Machine...  arxiv  \n",
       "2321  Cosmology and Nongalactic Astrophysics (astro-...  arxiv  \n",
       "3992  Cosmology and Nongalactic Astrophysics (astro-...  arxiv  \n",
       "7486  Machine Learning (stat.ML); Information Theory...  arxiv  \n",
       "9754  Machine Learning (stat.ML); Information Theory...  arxiv  \n",
       "6058  Data Structures and Algorithms (cs.DS); Artifi...  arxiv  \n",
       "9443  Data Structures and Algorithms (cs.DS); Artifi...  arxiv  \n",
       "6506  Probability (math.PR); Analysis of PDEs (math....  arxiv  \n",
       "8653  Probability (math.PR); Analysis of PDEs (math....  arxiv  \n",
       "5300  Machine Learning (stat.ML); Machine Learning (...  arxiv  \n",
       "5697  Machine Learning (stat.ML); Machine Learning (...  arxiv  "
      ]
     },
     "execution_count": 16,
     "metadata": {},
     "output_type": "execute_result"
    }
   ],
   "source": [
    "df2[df2.duplicated(keep=False)].sort_values(\"abstract\")"
   ]
  },
  {
   "cell_type": "markdown",
   "metadata": {},
   "source": [
    "Then, we remove some duplicated records."
   ]
  },
  {
   "cell_type": "code",
   "execution_count": 17,
   "metadata": {},
   "outputs": [
    {
     "data": {
      "text/plain": [
       "(7347, 6)"
      ]
     },
     "execution_count": 17,
     "metadata": {},
     "output_type": "execute_result"
    }
   ],
   "source": [
    "df3 = df2.drop_duplicates()\n",
    "df3.shape"
   ]
  },
  {
   "cell_type": "markdown",
   "metadata": {},
   "source": [
    "Finally, I noticed that some rows in the dataframe contain the value \"incorrect id format\" in the abstract field. There are 319 such records—not many, but since the title and subjects fields are not null, the reference to the article might still be useful."
   ]
  },
  {
   "cell_type": "code",
   "execution_count": 18,
   "metadata": {},
   "outputs": [
    {
     "data": {
      "text/html": [
       "<div>\n",
       "<style scoped>\n",
       "    .dataframe tbody tr th:only-of-type {\n",
       "        vertical-align: middle;\n",
       "    }\n",
       "\n",
       "    .dataframe tbody tr th {\n",
       "        vertical-align: top;\n",
       "    }\n",
       "\n",
       "    .dataframe thead th {\n",
       "        text-align: right;\n",
       "    }\n",
       "</style>\n",
       "<table border=\"1\" class=\"dataframe\">\n",
       "  <thead>\n",
       "    <tr style=\"text-align: right;\">\n",
       "      <th></th>\n",
       "      <th>date</th>\n",
       "      <th>abstract</th>\n",
       "      <th>title</th>\n",
       "      <th>authors</th>\n",
       "      <th>subjects</th>\n",
       "      <th>venue</th>\n",
       "    </tr>\n",
       "  </thead>\n",
       "  <tbody>\n",
       "    <tr>\n",
       "      <th>3</th>\n",
       "      <td>NaN</td>\n",
       "      <td>incorrect id format for 2210.156</td>\n",
       "      <td>Automatic extraction of materials and properti...</td>\n",
       "      <td>Luca Foppiano, Pedro Baptista de Castro, Pedro...</td>\n",
       "      <td>Computation and Language (cs.CL); Superconduct...</td>\n",
       "      <td>arxiv</td>\n",
       "    </tr>\n",
       "    <tr>\n",
       "      <th>45</th>\n",
       "      <td>NaN</td>\n",
       "      <td>incorrect id format for 912.2298</td>\n",
       "      <td>Performance Metrics Analysis of Torus Embedded...</td>\n",
       "      <td>N. Gopalakrishna Kini, M. Sathish Kumar, H.S. ...</td>\n",
       "      <td>Networking and Internet Architecture (cs.NI)</td>\n",
       "      <td>arxiv</td>\n",
       "    </tr>\n",
       "    <tr>\n",
       "      <th>69</th>\n",
       "      <td>NaN</td>\n",
       "      <td>incorrect id format for 2208.051</td>\n",
       "      <td>KL-divergence Based Deep Learning for Discrete...</td>\n",
       "      <td>Li Liu, Xiangeng Fang, Di Wang, Weijing Tang, ...</td>\n",
       "      <td>Machine Learning (stat.ML); Machine Learning (...</td>\n",
       "      <td>arxiv</td>\n",
       "    </tr>\n",
       "    <tr>\n",
       "      <th>73</th>\n",
       "      <td>NaN</td>\n",
       "      <td>incorrect id format for 902.1275</td>\n",
       "      <td>Delay Performance Optimization for Multiuser D...</td>\n",
       "      <td>Jalil Seifali Harsini, Farshad Lahouti</td>\n",
       "      <td>Information Theory (cs.IT)</td>\n",
       "      <td>arxiv</td>\n",
       "    </tr>\n",
       "    <tr>\n",
       "      <th>75</th>\n",
       "      <td>NaN</td>\n",
       "      <td>incorrect id format for 1805.08</td>\n",
       "      <td>Adversarial Noise Layer: Regularize Neural Net...</td>\n",
       "      <td>Zhonghui You, Jinmian Ye, Kunming Li, Zenglin ...</td>\n",
       "      <td>Computer Vision and Pattern Recognition (cs.CV...</td>\n",
       "      <td>arxiv</td>\n",
       "    </tr>\n",
       "    <tr>\n",
       "      <th>...</th>\n",
       "      <td>...</td>\n",
       "      <td>...</td>\n",
       "      <td>...</td>\n",
       "      <td>...</td>\n",
       "      <td>...</td>\n",
       "      <td>...</td>\n",
       "    </tr>\n",
       "    <tr>\n",
       "      <th>9908</th>\n",
       "      <td>NaN</td>\n",
       "      <td>incorrect id format for 1102.314</td>\n",
       "      <td>Capacity Region of\\nK\\n-User Discrete Memoryle...</td>\n",
       "      <td>G.Abhinav, B.Sundar Rajan</td>\n",
       "      <td>Information Theory (cs.IT)</td>\n",
       "      <td>arxiv</td>\n",
       "    </tr>\n",
       "    <tr>\n",
       "      <th>9917</th>\n",
       "      <td>NaN</td>\n",
       "      <td>incorrect id format for 2109.109</td>\n",
       "      <td>Towards Multi-Agent Reinforcement Learning usi...</td>\n",
       "      <td>Tobias Müller, Christoph Roch, Kyrill Schmid, ...</td>\n",
       "      <td>Artificial Intelligence (cs.AI); Multiagent Sy...</td>\n",
       "      <td>arxiv</td>\n",
       "    </tr>\n",
       "    <tr>\n",
       "      <th>9924</th>\n",
       "      <td>NaN</td>\n",
       "      <td>incorrect id format for 905.3296</td>\n",
       "      <td>An Analysis of Bug Distribution in Object Orie...</td>\n",
       "      <td>Alessandro Murgia, Giulio Concas, Michele Marc...</td>\n",
       "      <td>Software Engineering (cs.SE); Programming Lang...</td>\n",
       "      <td>arxiv</td>\n",
       "    </tr>\n",
       "    <tr>\n",
       "      <th>9939</th>\n",
       "      <td>NaN</td>\n",
       "      <td>incorrect id format for 1212.51</td>\n",
       "      <td>A Polynomial Time Version of LLL With Deep Ins...</td>\n",
       "      <td>Felix Fontein, Michael Schneider, Urs Wagner</td>\n",
       "      <td>Cryptography and Security (cs.CR); Combinatori...</td>\n",
       "      <td>arxiv</td>\n",
       "    </tr>\n",
       "    <tr>\n",
       "      <th>9945</th>\n",
       "      <td>NaN</td>\n",
       "      <td>incorrect id format for 706.1614</td>\n",
       "      <td>Non-Cooperative Scheduling of Multiple Bag-of-...</td>\n",
       "      <td>Arnaud Legrand (INRIA Rhône-Alpes / Id-Imag, L...</td>\n",
       "      <td>Distributed, Parallel, and Cluster Computing (...</td>\n",
       "      <td>arxiv</td>\n",
       "    </tr>\n",
       "  </tbody>\n",
       "</table>\n",
       "<p>319 rows × 6 columns</p>\n",
       "</div>"
      ],
      "text/plain": [
       "     date                          abstract  \\\n",
       "3     NaN  incorrect id format for 2210.156   \n",
       "45    NaN  incorrect id format for 912.2298   \n",
       "69    NaN  incorrect id format for 2208.051   \n",
       "73    NaN  incorrect id format for 902.1275   \n",
       "75    NaN   incorrect id format for 1805.08   \n",
       "...   ...                               ...   \n",
       "9908  NaN  incorrect id format for 1102.314   \n",
       "9917  NaN  incorrect id format for 2109.109   \n",
       "9924  NaN  incorrect id format for 905.3296   \n",
       "9939  NaN   incorrect id format for 1212.51   \n",
       "9945  NaN  incorrect id format for 706.1614   \n",
       "\n",
       "                                                  title  \\\n",
       "3     Automatic extraction of materials and properti...   \n",
       "45    Performance Metrics Analysis of Torus Embedded...   \n",
       "69    KL-divergence Based Deep Learning for Discrete...   \n",
       "73    Delay Performance Optimization for Multiuser D...   \n",
       "75    Adversarial Noise Layer: Regularize Neural Net...   \n",
       "...                                                 ...   \n",
       "9908  Capacity Region of\\nK\\n-User Discrete Memoryle...   \n",
       "9917  Towards Multi-Agent Reinforcement Learning usi...   \n",
       "9924  An Analysis of Bug Distribution in Object Orie...   \n",
       "9939  A Polynomial Time Version of LLL With Deep Ins...   \n",
       "9945  Non-Cooperative Scheduling of Multiple Bag-of-...   \n",
       "\n",
       "                                                authors  \\\n",
       "3     Luca Foppiano, Pedro Baptista de Castro, Pedro...   \n",
       "45    N. Gopalakrishna Kini, M. Sathish Kumar, H.S. ...   \n",
       "69    Li Liu, Xiangeng Fang, Di Wang, Weijing Tang, ...   \n",
       "73               Jalil Seifali Harsini, Farshad Lahouti   \n",
       "75    Zhonghui You, Jinmian Ye, Kunming Li, Zenglin ...   \n",
       "...                                                 ...   \n",
       "9908                          G.Abhinav, B.Sundar Rajan   \n",
       "9917  Tobias Müller, Christoph Roch, Kyrill Schmid, ...   \n",
       "9924  Alessandro Murgia, Giulio Concas, Michele Marc...   \n",
       "9939       Felix Fontein, Michael Schneider, Urs Wagner   \n",
       "9945  Arnaud Legrand (INRIA Rhône-Alpes / Id-Imag, L...   \n",
       "\n",
       "                                               subjects  venue  \n",
       "3     Computation and Language (cs.CL); Superconduct...  arxiv  \n",
       "45         Networking and Internet Architecture (cs.NI)  arxiv  \n",
       "69    Machine Learning (stat.ML); Machine Learning (...  arxiv  \n",
       "73                           Information Theory (cs.IT)  arxiv  \n",
       "75    Computer Vision and Pattern Recognition (cs.CV...  arxiv  \n",
       "...                                                 ...    ...  \n",
       "9908                         Information Theory (cs.IT)  arxiv  \n",
       "9917  Artificial Intelligence (cs.AI); Multiagent Sy...  arxiv  \n",
       "9924  Software Engineering (cs.SE); Programming Lang...  arxiv  \n",
       "9939  Cryptography and Security (cs.CR); Combinatori...  arxiv  \n",
       "9945  Distributed, Parallel, and Cluster Computing (...  arxiv  \n",
       "\n",
       "[319 rows x 6 columns]"
      ]
     },
     "execution_count": 18,
     "metadata": {},
     "output_type": "execute_result"
    }
   ],
   "source": [
    "df3[df3[\"abstract\"].str.contains(\"incorrect\", case=False, na=False)]\n"
   ]
  },
  {
   "cell_type": "markdown",
   "metadata": {},
   "source": [
    "## Descriptive Analysis"
   ]
  },
  {
   "cell_type": "markdown",
   "metadata": {},
   "source": [
    "Goal: dive deep into the dataset to reveal the number of papers, their sources, and other intriguing facts. What stories do the numbers tell?"
   ]
  },
  {
   "cell_type": "code",
   "execution_count": 34,
   "metadata": {},
   "outputs": [
    {
     "data": {
      "text/plain": [
       "(7347, 6)"
      ]
     },
     "execution_count": 34,
     "metadata": {},
     "output_type": "execute_result"
    }
   ],
   "source": [
    "df3.shape"
   ]
  },
  {
   "cell_type": "code",
   "execution_count": 40,
   "metadata": {},
   "outputs": [
    {
     "data": {
      "text/plain": [
       "venue\n",
       "arxiv    7347\n",
       "Name: count, dtype: int64"
      ]
     },
     "execution_count": 40,
     "metadata": {},
     "output_type": "execute_result"
    }
   ],
   "source": [
    "df3['venue'].value_counts().head(10)"
   ]
  },
  {
   "cell_type": "code",
   "execution_count": null,
   "metadata": {},
   "outputs": [
    {
     "data": {
      "text/plain": [
       "venue\n",
       "arxiv    7355\n",
       "nips      326\n",
       "chi       321\n",
       "hicss     258\n",
       "ijcai     216\n",
       "acl       170\n",
       "icml      152\n",
       "emnlp     143\n",
       "icpr      141\n",
       "cikm      117\n",
       "Name: count, dtype: int64"
      ]
     },
     "execution_count": 39,
     "metadata": {},
     "output_type": "execute_result"
    }
   ],
   "source": [
    "df['venue'].value_counts().head(10)"
   ]
  },
  {
   "cell_type": "markdown",
   "metadata": {},
   "source": [
    "We can immediately notice that all the 7347 papers from the cleaned dataframe are got from Arxiv. If we compare this result with the original dataset, we discover that articles from other sources were all removed during data cleaning, because they were too incomplete. So Arxiv is the most practicle source among these to search for papers though this scraping."
   ]
  },
  {
   "cell_type": "code",
   "execution_count": 43,
   "metadata": {},
   "outputs": [
    {
     "data": {
      "text/plain": [
       "subjects\n",
       "Computer Vision and Pattern Recognition (cs.CV)         729\n",
       "Information Theory (cs.IT)                              284\n",
       "Computation and Language (cs.CL)                        261\n",
       " Parallel                                               226\n",
       "Machine Learning (cs.LG)                                185\n",
       "Machine Learning (cs.LG); Machine Learning (stat.ML)    175\n",
       "Distributed                                             146\n",
       "Robotics (cs.RO)                                        135\n",
       "Cryptography and Security (cs.CR)                       127\n",
       "Numerical Analysis (math.NA)                            121\n",
       "Name: count, dtype: int64"
      ]
     },
     "execution_count": 43,
     "metadata": {},
     "output_type": "execute_result"
    }
   ],
   "source": [
    "df3['subjects'].str.split(',').explode().value_counts().head(10)"
   ]
  },
  {
   "cell_type": "markdown",
   "metadata": {},
   "source": [
    "Then, looking at the 'subject' column, we notice that Computer Vision and Pattern Recognition constitutes a strong majority of the handled subjects."
   ]
  },
  {
   "cell_type": "code",
   "execution_count": null,
   "metadata": {},
   "outputs": [],
   "source": [
    "import re\n",
    "\n",
    "# clean authors list from details between parenthesis\n",
    "df3['authors_clean'] = df3['authors'].apply(lambda x: \n",
    "    ', '.join([re.sub(r\"\\s*\\(.*?\\)\", \"\", name.strip()) for name in x]) \n",
    "    if isinstance(x, list) else \n",
    "    re.sub(r\"\\s*\\(.*?\\)\", \"\", str(x))\n",
    ")\n"
   ]
  },
  {
   "cell_type": "code",
   "execution_count": 60,
   "metadata": {},
   "outputs": [
    {
     "data": {
      "text/plain": [
       "authors_clean\n",
       "H. Vincent Poor    13\n",
       "Jiebo Luo          11\n",
       "Yang Liu           10\n",
       "Wei Wang            9\n",
       "Jiashi Feng         9\n",
       "Yi Yang             9\n",
       "Yoshua Bengio       8\n",
       "Wei Liu             8\n",
       "Jun Wang            7\n",
       "Xin Wang            7\n",
       "Name: count, dtype: int64"
      ]
     },
     "execution_count": 60,
     "metadata": {},
     "output_type": "execute_result"
    }
   ],
   "source": [
    "df3['authors_clean'].str.split(',').explode().value_counts().head(10)"
   ]
  },
  {
   "cell_type": "markdown",
   "metadata": {},
   "source": [
    "From an analysis of the authors, we can state that the most proficient author among them is H. Vincent Poor. However, we also observe that the majority of proficient authors are Asian. Therefore, we cannot exclude the possibility that some of them have identical names, because they seem very simple and common."
   ]
  },
  {
   "cell_type": "code",
   "execution_count": 65,
   "metadata": {},
   "outputs": [
    {
     "data": {
      "text/plain": [
       "count    7347.000000\n",
       "mean      157.901320\n",
       "std        61.997716\n",
       "min         5.000000\n",
       "25%       122.000000\n",
       "50%       159.000000\n",
       "75%       199.000000\n",
       "max       413.000000\n",
       "Name: abstract, dtype: float64"
      ]
     },
     "execution_count": 65,
     "metadata": {},
     "output_type": "execute_result"
    }
   ],
   "source": [
    "df3['abstract'].str.split().apply(len).describe()"
   ]
  },
  {
   "cell_type": "markdown",
   "metadata": {},
   "source": [
    "## Function Creation"
   ]
  },
  {
   "cell_type": "markdown",
   "metadata": {},
   "source": [
    "Goal: write a function that filters the papers based on some given keywords existing in their title and abstract. It could be very useful for researchers who need to look at relevant papers"
   ]
  },
  {
   "cell_type": "code",
   "execution_count": 33,
   "metadata": {},
   "outputs": [
    {
     "data": {
      "text/html": [
       "<div>\n",
       "<style scoped>\n",
       "    .dataframe tbody tr th:only-of-type {\n",
       "        vertical-align: middle;\n",
       "    }\n",
       "\n",
       "    .dataframe tbody tr th {\n",
       "        vertical-align: top;\n",
       "    }\n",
       "\n",
       "    .dataframe thead th {\n",
       "        text-align: right;\n",
       "    }\n",
       "</style>\n",
       "<table border=\"1\" class=\"dataframe\">\n",
       "  <thead>\n",
       "    <tr style=\"text-align: right;\">\n",
       "      <th></th>\n",
       "      <th>date</th>\n",
       "      <th>abstract</th>\n",
       "      <th>title</th>\n",
       "      <th>authors</th>\n",
       "      <th>subjects</th>\n",
       "      <th>venue</th>\n",
       "    </tr>\n",
       "  </thead>\n",
       "  <tbody>\n",
       "    <tr>\n",
       "      <th>23</th>\n",
       "      <td>2023-01-26 16:55:15</td>\n",
       "      <td>Memes can sway people's opinions over social m...</td>\n",
       "      <td>Characterizing the Entities in Harmful Memes: ...</td>\n",
       "      <td>Shivam Sharma, Atharva Kulkarni, Tharun Suresh...</td>\n",
       "      <td>Computation and Language (cs.CL); Computers an...</td>\n",
       "      <td>arxiv</td>\n",
       "    </tr>\n",
       "    <tr>\n",
       "      <th>24</th>\n",
       "      <td>2021-05-03 11:42:27</td>\n",
       "      <td>Building human-like agent, which aims to learn...</td>\n",
       "      <td>APPL: Adaptive Planner Parameter Learning</td>\n",
       "      <td>Xuesu Xiao, Zizhao Wang, Zifan Xu, Bo Liu, Gar...</td>\n",
       "      <td>Robotics (cs.RO)</td>\n",
       "      <td>arxiv</td>\n",
       "    </tr>\n",
       "    <tr>\n",
       "      <th>44</th>\n",
       "      <td>2013-03-27 19:39:17</td>\n",
       "      <td>It is suggested that an AI inference system sh...</td>\n",
       "      <td>Inference Policies</td>\n",
       "      <td>Paul E. Lehner</td>\n",
       "      <td>Artificial Intelligence (cs.AI)</td>\n",
       "      <td>arxiv</td>\n",
       "    </tr>\n",
       "    <tr>\n",
       "      <th>66</th>\n",
       "      <td>2023-06-29 02:46:45</td>\n",
       "      <td>The development of Natural Language Generation...</td>\n",
       "      <td>The Future of AI-Assisted Writing</td>\n",
       "      <td>Carlos Alves Pereira, Tanay Komarlu, Wael Mobe...</td>\n",
       "      <td>Human-Computer Interaction (cs.HC); Artificial...</td>\n",
       "      <td>arxiv</td>\n",
       "    </tr>\n",
       "    <tr>\n",
       "      <th>92</th>\n",
       "      <td>2023-03-20 20:28:26</td>\n",
       "      <td>Cognitive psychology delves on understanding p...</td>\n",
       "      <td>Mind meets machine: Unravelling GPT-4's cognit...</td>\n",
       "      <td>Sifatkaur Dhingra, Manmeet Singh, Vaisakh SB, ...</td>\n",
       "      <td>Computation and Language (cs.CL); Artificial I...</td>\n",
       "      <td>arxiv</td>\n",
       "    </tr>\n",
       "    <tr>\n",
       "      <th>...</th>\n",
       "      <td>...</td>\n",
       "      <td>...</td>\n",
       "      <td>...</td>\n",
       "      <td>...</td>\n",
       "      <td>...</td>\n",
       "      <td>...</td>\n",
       "    </tr>\n",
       "    <tr>\n",
       "      <th>9799</th>\n",
       "      <td>2023-07-10 00:58:28</td>\n",
       "      <td>To achieve successful deployment of AI researc...</td>\n",
       "      <td>A Demand-Driven Perspective on Generative Audi...</td>\n",
       "      <td>Sangshin Oh, Minsung Kang, Hyeongi Moon, Keunw...</td>\n",
       "      <td>Audio and Speech Processing (eess.AS); Artific...</td>\n",
       "      <td>arxiv</td>\n",
       "    </tr>\n",
       "    <tr>\n",
       "      <th>9856</th>\n",
       "      <td>2015-06-23 00:59:27</td>\n",
       "      <td>Integrating vision and language has long been ...</td>\n",
       "      <td>A Survey of Current Datasets for Vision and La...</td>\n",
       "      <td>Francis Ferraro, Nasrin Mostafazadeh, Ting-Hao...</td>\n",
       "      <td>Computation and Language (cs.CL); Artificial I...</td>\n",
       "      <td>arxiv</td>\n",
       "    </tr>\n",
       "    <tr>\n",
       "      <th>9857</th>\n",
       "      <td>2023-08-09 04:48:55</td>\n",
       "      <td>As cyber threats evolve and grow progressively...</td>\n",
       "      <td>Data-Driven Intelligence can Revolutionize Tod...</td>\n",
       "      <td>Iqbal H. Sarker, Helge Janicke, Leandros Magla...</td>\n",
       "      <td>Cryptography and Security (cs.CR)</td>\n",
       "      <td>arxiv</td>\n",
       "    </tr>\n",
       "    <tr>\n",
       "      <th>9867</th>\n",
       "      <td>2020-11-02 07:08:19</td>\n",
       "      <td>Commonsense reasoning refers to the ability of...</td>\n",
       "      <td>PC-GAIN: Pseudo-label Conditional Generative A...</td>\n",
       "      <td>Yufeng Wang, Dan Li, Xiang Li, Min Yang</td>\n",
       "      <td>Machine Learning (cs.LG); Machine Learning (st...</td>\n",
       "      <td>arxiv</td>\n",
       "    </tr>\n",
       "    <tr>\n",
       "      <th>9897</th>\n",
       "      <td>2023-06-26 13:27:11</td>\n",
       "      <td>Avatars, as promising digital assistants in Ve...</td>\n",
       "      <td>Multi-Agent Deep Reinforcement Learning for Dy...</td>\n",
       "      <td>Junlong Chen, Jiawen Kang, Minrui Xu, Zehui Xi...</td>\n",
       "      <td>Artificial Intelligence (cs.AI); Machine Learn...</td>\n",
       "      <td>arxiv</td>\n",
       "    </tr>\n",
       "  </tbody>\n",
       "</table>\n",
       "<p>238 rows × 6 columns</p>\n",
       "</div>"
      ],
      "text/plain": [
       "                     date                                           abstract  \\\n",
       "23    2023-01-26 16:55:15  Memes can sway people's opinions over social m...   \n",
       "24    2021-05-03 11:42:27  Building human-like agent, which aims to learn...   \n",
       "44    2013-03-27 19:39:17  It is suggested that an AI inference system sh...   \n",
       "66    2023-06-29 02:46:45  The development of Natural Language Generation...   \n",
       "92    2023-03-20 20:28:26  Cognitive psychology delves on understanding p...   \n",
       "...                   ...                                                ...   \n",
       "9799  2023-07-10 00:58:28  To achieve successful deployment of AI researc...   \n",
       "9856  2015-06-23 00:59:27  Integrating vision and language has long been ...   \n",
       "9857  2023-08-09 04:48:55  As cyber threats evolve and grow progressively...   \n",
       "9867  2020-11-02 07:08:19  Commonsense reasoning refers to the ability of...   \n",
       "9897  2023-06-26 13:27:11  Avatars, as promising digital assistants in Ve...   \n",
       "\n",
       "                                                  title  \\\n",
       "23    Characterizing the Entities in Harmful Memes: ...   \n",
       "24            APPL: Adaptive Planner Parameter Learning   \n",
       "44                                   Inference Policies   \n",
       "66                    The Future of AI-Assisted Writing   \n",
       "92    Mind meets machine: Unravelling GPT-4's cognit...   \n",
       "...                                                 ...   \n",
       "9799  A Demand-Driven Perspective on Generative Audi...   \n",
       "9856  A Survey of Current Datasets for Vision and La...   \n",
       "9857  Data-Driven Intelligence can Revolutionize Tod...   \n",
       "9867  PC-GAIN: Pseudo-label Conditional Generative A...   \n",
       "9897  Multi-Agent Deep Reinforcement Learning for Dy...   \n",
       "\n",
       "                                                authors  \\\n",
       "23    Shivam Sharma, Atharva Kulkarni, Tharun Suresh...   \n",
       "24    Xuesu Xiao, Zizhao Wang, Zifan Xu, Bo Liu, Gar...   \n",
       "44                                       Paul E. Lehner   \n",
       "66    Carlos Alves Pereira, Tanay Komarlu, Wael Mobe...   \n",
       "92    Sifatkaur Dhingra, Manmeet Singh, Vaisakh SB, ...   \n",
       "...                                                 ...   \n",
       "9799  Sangshin Oh, Minsung Kang, Hyeongi Moon, Keunw...   \n",
       "9856  Francis Ferraro, Nasrin Mostafazadeh, Ting-Hao...   \n",
       "9857  Iqbal H. Sarker, Helge Janicke, Leandros Magla...   \n",
       "9867            Yufeng Wang, Dan Li, Xiang Li, Min Yang   \n",
       "9897  Junlong Chen, Jiawen Kang, Minrui Xu, Zehui Xi...   \n",
       "\n",
       "                                               subjects  venue  \n",
       "23    Computation and Language (cs.CL); Computers an...  arxiv  \n",
       "24                                     Robotics (cs.RO)  arxiv  \n",
       "44                      Artificial Intelligence (cs.AI)  arxiv  \n",
       "66    Human-Computer Interaction (cs.HC); Artificial...  arxiv  \n",
       "92    Computation and Language (cs.CL); Artificial I...  arxiv  \n",
       "...                                                 ...    ...  \n",
       "9799  Audio and Speech Processing (eess.AS); Artific...  arxiv  \n",
       "9856  Computation and Language (cs.CL); Artificial I...  arxiv  \n",
       "9857                  Cryptography and Security (cs.CR)  arxiv  \n",
       "9867  Machine Learning (cs.LG); Machine Learning (st...  arxiv  \n",
       "9897  Artificial Intelligence (cs.AI); Machine Learn...  arxiv  \n",
       "\n",
       "[238 rows x 6 columns]"
      ]
     },
     "execution_count": 33,
     "metadata": {},
     "output_type": "execute_result"
    }
   ],
   "source": [
    "def filter_papers(df, keywords):\n",
    "    pairs = df[['abstract', 'title']].values.tolist()\n",
    "    articles = [] \n",
    "\n",
    "#checks if any word in keywords is either in abstract or in title and creates a filtered df\n",
    "    for idx, pair in enumerate(pairs):\n",
    "        for key in keywords:\n",
    "            if (key in pair[0]) or (key in pair[1]): \n",
    "                article = df.iloc[idx] \n",
    "                articles.append(article) \n",
    "\n",
    "    newdf = pd.DataFrame(articles)\n",
    "\n",
    "    return newdf\n",
    "\n",
    "filter_papers(df3, ['AI'])"
   ]
  }
 ],
 "metadata": {
  "kernelspec": {
   "display_name": "Python 3",
   "language": "python",
   "name": "python3"
  },
  "language_info": {
   "codemirror_mode": {
    "name": "ipython",
    "version": 3
   },
   "file_extension": ".py",
   "mimetype": "text/x-python",
   "name": "python",
   "nbconvert_exporter": "python",
   "pygments_lexer": "ipython3",
   "version": "3.13.2"
  }
 },
 "nbformat": 4,
 "nbformat_minor": 2
}
