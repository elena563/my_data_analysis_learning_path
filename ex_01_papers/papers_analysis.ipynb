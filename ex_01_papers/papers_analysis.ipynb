{
 "cells": [
  {
   "cell_type": "markdown",
   "metadata": {},
   "source": [
    "# Python Case Study - Papers"
   ]
  },
  {
   "cell_type": "markdown",
   "metadata": {},
   "source": [
    "The goal of this exercise is to explore a dataset of 10,000 Computer Science papers, compiled in a CSV file through web scraping. Mission: gain insights through descriptive analysis, evaluate data quality, and query them."
   ]
  },
  {
   "cell_type": "markdown",
   "metadata": {},
   "source": [
    "## Data Quality Assessment"
   ]
  },
  {
   "cell_type": "markdown",
   "metadata": {},
   "source": [
    "Goal: investigate for missing values, duplicates, and any inconsistencies. Propose solutions to improve the dataset's quality."
   ]
  },
  {
   "cell_type": "markdown",
   "metadata": {},
   "source": [
    "In order to clean data well, it is necessary to verify that records are correctly read."
   ]
  },
  {
   "cell_type": "code",
   "execution_count": 3,
   "metadata": {},
   "outputs": [],
   "source": [
    "import pandas as pd\n",
    "\n",
    "df = pd.read_csv(\"papers.csv\", quotechar='\"')"
   ]
  },
  {
   "cell_type": "markdown",
   "metadata": {},
   "source": [
    "At first glance, I noticed that some records spanned multiple rows due to the presence of \"/n\" in certain values. Additionally, some values contained commas, which could interfere with field separation.\n",
    "To address this, I added the **quotechar** argument to the read statement to ensure that text enclosed in quotation marks remained within the same field. Finally, while I confirmed that commas were indeed problematic, I could not say the same about \"/n\"."
   ]
  },
  {
   "cell_type": "code",
   "execution_count": 6,
   "metadata": {},
   "outputs": [
    {
     "data": {
      "text/plain": [
       "(10000, 7)"
      ]
     },
     "execution_count": 6,
     "metadata": {},
     "output_type": "execute_result"
    }
   ],
   "source": [
    "df.shape"
   ]
  },
  {
   "cell_type": "code",
   "execution_count": null,
   "metadata": {},
   "outputs": [
    {
     "data": {
      "text/html": [
       "<div>\n",
       "<style scoped>\n",
       "    .dataframe tbody tr th:only-of-type {\n",
       "        vertical-align: middle;\n",
       "    }\n",
       "\n",
       "    .dataframe tbody tr th {\n",
       "        vertical-align: top;\n",
       "    }\n",
       "\n",
       "    .dataframe thead th {\n",
       "        text-align: right;\n",
       "    }\n",
       "</style>\n",
       "<table border=\"1\" class=\"dataframe\">\n",
       "  <thead>\n",
       "    <tr style=\"text-align: right;\">\n",
       "      <th></th>\n",
       "      <th>date</th>\n",
       "      <th>abstract</th>\n",
       "      <th>title</th>\n",
       "      <th>authors</th>\n",
       "      <th>subjects</th>\n",
       "      <th>venue</th>\n",
       "      <th>importing_date</th>\n",
       "    </tr>\n",
       "  </thead>\n",
       "  <tbody>\n",
       "    <tr>\n",
       "      <th>0</th>\n",
       "      <td>2021-10-25 05:17:04</td>\n",
       "      <td>For a long time, bone marrow cell morphology e...</td>\n",
       "      <td>Bone Marrow Cell Recognition: Training Deep Ob...</td>\n",
       "      <td>Dehao Huang, Jintao Cheng, Rui Fan, Zhihao Su,...</td>\n",
       "      <td>Computer Vision and Pattern Recognition (cs.CV)</td>\n",
       "      <td>arxiv</td>\n",
       "      <td>NaN</td>\n",
       "    </tr>\n",
       "    <tr>\n",
       "      <th>1</th>\n",
       "      <td>2014-06-05 23:35:17</td>\n",
       "      <td>It is assumed that under suitable economic and...</td>\n",
       "      <td>Arbitrage-free exchange rate ensembles over a ...</td>\n",
       "      <td>Stan Palasek</td>\n",
       "      <td>General Economics (econ.GN); Social and Inform...</td>\n",
       "      <td>arxiv</td>\n",
       "      <td>NaN</td>\n",
       "    </tr>\n",
       "    <tr>\n",
       "      <th>2</th>\n",
       "      <td>2023-03-17 16:26:03</td>\n",
       "      <td>Physics-based covariance models provide a syst...</td>\n",
       "      <td>Scalable Physics-based Maximum Likelihood Esti...</td>\n",
       "      <td>Yian Chen, Mihai Anitescu</td>\n",
       "      <td>Computation (stat.CO); Numerical Analysis (mat...</td>\n",
       "      <td>arxiv</td>\n",
       "      <td>NaN</td>\n",
       "    </tr>\n",
       "    <tr>\n",
       "      <th>3</th>\n",
       "      <td>NaN</td>\n",
       "      <td>incorrect id format for 2210.156</td>\n",
       "      <td>Automatic extraction of materials and properti...</td>\n",
       "      <td>Luca Foppiano, Pedro Baptista de Castro, Pedro...</td>\n",
       "      <td>Computation and Language (cs.CL); Superconduct...</td>\n",
       "      <td>arxiv</td>\n",
       "      <td>NaN</td>\n",
       "    </tr>\n",
       "    <tr>\n",
       "      <th>4</th>\n",
       "      <td>2017-12-04 16:26:52</td>\n",
       "      <td>This paper presents a new isogeometric mortar ...</td>\n",
       "      <td>A segmentation-free isogeometric extended mort...</td>\n",
       "      <td>Thang Xuan Duong, Laura De Lorenzis, Roger A. ...</td>\n",
       "      <td>Computational Engineering, Finance, and Scienc...</td>\n",
       "      <td>arxiv</td>\n",
       "      <td>NaN</td>\n",
       "    </tr>\n",
       "  </tbody>\n",
       "</table>\n",
       "</div>"
      ],
      "text/plain": [
       "                  date                                           abstract  \\\n",
       "0  2021-10-25 05:17:04  For a long time, bone marrow cell morphology e...   \n",
       "1  2014-06-05 23:35:17  It is assumed that under suitable economic and...   \n",
       "2  2023-03-17 16:26:03  Physics-based covariance models provide a syst...   \n",
       "3                  NaN                   incorrect id format for 2210.156   \n",
       "4  2017-12-04 16:26:52  This paper presents a new isogeometric mortar ...   \n",
       "\n",
       "                                               title  \\\n",
       "0  Bone Marrow Cell Recognition: Training Deep Ob...   \n",
       "1  Arbitrage-free exchange rate ensembles over a ...   \n",
       "2  Scalable Physics-based Maximum Likelihood Esti...   \n",
       "3  Automatic extraction of materials and properti...   \n",
       "4  A segmentation-free isogeometric extended mort...   \n",
       "\n",
       "                                             authors  \\\n",
       "0  Dehao Huang, Jintao Cheng, Rui Fan, Zhihao Su,...   \n",
       "1                                       Stan Palasek   \n",
       "2                          Yian Chen, Mihai Anitescu   \n",
       "3  Luca Foppiano, Pedro Baptista de Castro, Pedro...   \n",
       "4  Thang Xuan Duong, Laura De Lorenzis, Roger A. ...   \n",
       "\n",
       "                                            subjects  venue importing_date  \n",
       "0    Computer Vision and Pattern Recognition (cs.CV)  arxiv            NaN  \n",
       "1  General Economics (econ.GN); Social and Inform...  arxiv            NaN  \n",
       "2  Computation (stat.CO); Numerical Analysis (mat...  arxiv            NaN  \n",
       "3  Computation and Language (cs.CL); Superconduct...  arxiv            NaN  \n",
       "4  Computational Engineering, Finance, and Scienc...  arxiv            NaN  "
      ]
     },
     "execution_count": 5,
     "metadata": {},
     "output_type": "execute_result"
    }
   ],
   "source": [
    "df.head()"
   ]
  },
  {
   "cell_type": "code",
   "execution_count": 7,
   "metadata": {},
   "outputs": [
    {
     "data": {
      "text/html": [
       "<div>\n",
       "<style scoped>\n",
       "    .dataframe tbody tr th:only-of-type {\n",
       "        vertical-align: middle;\n",
       "    }\n",
       "\n",
       "    .dataframe tbody tr th {\n",
       "        vertical-align: top;\n",
       "    }\n",
       "\n",
       "    .dataframe thead th {\n",
       "        text-align: right;\n",
       "    }\n",
       "</style>\n",
       "<table border=\"1\" class=\"dataframe\">\n",
       "  <thead>\n",
       "    <tr style=\"text-align: right;\">\n",
       "      <th></th>\n",
       "      <th>date</th>\n",
       "      <th>abstract</th>\n",
       "      <th>title</th>\n",
       "      <th>authors</th>\n",
       "      <th>subjects</th>\n",
       "      <th>venue</th>\n",
       "      <th>importing_date</th>\n",
       "    </tr>\n",
       "  </thead>\n",
       "  <tbody>\n",
       "    <tr>\n",
       "      <th>9995</th>\n",
       "      <td>2020-12-17 22:49:02</td>\n",
       "      <td>In this work, a system for creating a relighta...</td>\n",
       "      <td>Relightable 3D Head Portraits from a Smartphon...</td>\n",
       "      <td>Artem Sevastopolsky, Savva Ignatiev, Gonzalo F...</td>\n",
       "      <td>Computer Vision and Pattern Recognition (cs.CV)</td>\n",
       "      <td>arxiv</td>\n",
       "      <td>NaN</td>\n",
       "    </tr>\n",
       "    <tr>\n",
       "      <th>9996</th>\n",
       "      <td>2022-08-24 01:04:47</td>\n",
       "      <td>Transformer-based methods have achieved impres...</td>\n",
       "      <td>SwinFIR: Revisiting the SwinIR with Fast Fouri...</td>\n",
       "      <td>Dafeng Zhang, Feiyu Huang, Shizhuo Liu, Xiaobi...</td>\n",
       "      <td>Computer Vision and Pattern Recognition (cs.CV)</td>\n",
       "      <td>arxiv</td>\n",
       "      <td>NaN</td>\n",
       "    </tr>\n",
       "    <tr>\n",
       "      <th>9997</th>\n",
       "      <td>NaN</td>\n",
       "      <td>NaN</td>\n",
       "      <td>Random Projection Trees Revisited.</td>\n",
       "      <td>NaN</td>\n",
       "      <td>NaN</td>\n",
       "      <td>nips</td>\n",
       "      <td>2024-03-02</td>\n",
       "    </tr>\n",
       "    <tr>\n",
       "      <th>9998</th>\n",
       "      <td>2021-09-28 10:18:27</td>\n",
       "      <td>In this paper, we introduce a compositional me...</td>\n",
       "      <td>Compositional Abstractions of Interconnected D...</td>\n",
       "      <td>Abdalla Swikir, Majid Zamani</td>\n",
       "      <td>Systems and Control (eess.SY)</td>\n",
       "      <td>arxiv</td>\n",
       "      <td>NaN</td>\n",
       "    </tr>\n",
       "    <tr>\n",
       "      <th>9999</th>\n",
       "      <td>2023-05-24 15:09:41</td>\n",
       "      <td>Manifolds discovered by machine learning model...</td>\n",
       "      <td>Short and Straight: Geodesics on Differentiabl...</td>\n",
       "      <td>Daniel Kelshaw, Luca Magri</td>\n",
       "      <td>Machine Learning (cs.LG); Computational Geomet...</td>\n",
       "      <td>arxiv</td>\n",
       "      <td>NaN</td>\n",
       "    </tr>\n",
       "  </tbody>\n",
       "</table>\n",
       "</div>"
      ],
      "text/plain": [
       "                     date                                           abstract  \\\n",
       "9995  2020-12-17 22:49:02  In this work, a system for creating a relighta...   \n",
       "9996  2022-08-24 01:04:47  Transformer-based methods have achieved impres...   \n",
       "9997                  NaN                                                NaN   \n",
       "9998  2021-09-28 10:18:27  In this paper, we introduce a compositional me...   \n",
       "9999  2023-05-24 15:09:41  Manifolds discovered by machine learning model...   \n",
       "\n",
       "                                                  title  \\\n",
       "9995  Relightable 3D Head Portraits from a Smartphon...   \n",
       "9996  SwinFIR: Revisiting the SwinIR with Fast Fouri...   \n",
       "9997                 Random Projection Trees Revisited.   \n",
       "9998  Compositional Abstractions of Interconnected D...   \n",
       "9999  Short and Straight: Geodesics on Differentiabl...   \n",
       "\n",
       "                                                authors  \\\n",
       "9995  Artem Sevastopolsky, Savva Ignatiev, Gonzalo F...   \n",
       "9996  Dafeng Zhang, Feiyu Huang, Shizhuo Liu, Xiaobi...   \n",
       "9997                                                NaN   \n",
       "9998                       Abdalla Swikir, Majid Zamani   \n",
       "9999                         Daniel Kelshaw, Luca Magri   \n",
       "\n",
       "                                               subjects  venue importing_date  \n",
       "9995    Computer Vision and Pattern Recognition (cs.CV)  arxiv            NaN  \n",
       "9996    Computer Vision and Pattern Recognition (cs.CV)  arxiv            NaN  \n",
       "9997                                                NaN   nips     2024-03-02  \n",
       "9998                      Systems and Control (eess.SY)  arxiv            NaN  \n",
       "9999  Machine Learning (cs.LG); Computational Geomet...  arxiv            NaN  "
      ]
     },
     "execution_count": 7,
     "metadata": {},
     "output_type": "execute_result"
    }
   ],
   "source": [
    "df.tail()"
   ]
  },
  {
   "cell_type": "markdown",
   "metadata": {},
   "source": [
    "The following step is to find and manage **missing data**."
   ]
  },
  {
   "cell_type": "code",
   "execution_count": 8,
   "metadata": {},
   "outputs": [
    {
     "data": {
      "text/plain": [
       "date              2934\n",
       "abstract          2645\n",
       "title                0\n",
       "authors           2645\n",
       "subjects          2645\n",
       "venue                0\n",
       "importing_date    7355\n",
       "dtype: int64"
      ]
     },
     "execution_count": 8,
     "metadata": {},
     "output_type": "execute_result"
    }
   ],
   "source": [
    "df.isnull().sum()"
   ]
  },
  {
   "cell_type": "markdown",
   "metadata": {},
   "source": [
    "There are many missing values. We have 0 in just two columns: title and value.\n",
    "One field in particular is problematic: **importing_date**. It has more than 70% missing values.\n",
    "However, looking at the values it assumes, it doesn't seem to be a very important variable, so it can be removed from dataframe."
   ]
  },
  {
   "cell_type": "code",
   "execution_count": 9,
   "metadata": {},
   "outputs": [
    {
     "data": {
      "text/plain": [
       "array([nan, '2024-03-03', '2024-03-02'], dtype=object)"
      ]
     },
     "execution_count": 9,
     "metadata": {},
     "output_type": "execute_result"
    }
   ],
   "source": [
    "df[\"importing_date\"].unique()"
   ]
  },
  {
   "cell_type": "code",
   "execution_count": 11,
   "metadata": {},
   "outputs": [
    {
     "data": {
      "text/html": [
       "<div>\n",
       "<style scoped>\n",
       "    .dataframe tbody tr th:only-of-type {\n",
       "        vertical-align: middle;\n",
       "    }\n",
       "\n",
       "    .dataframe tbody tr th {\n",
       "        vertical-align: top;\n",
       "    }\n",
       "\n",
       "    .dataframe thead th {\n",
       "        text-align: right;\n",
       "    }\n",
       "</style>\n",
       "<table border=\"1\" class=\"dataframe\">\n",
       "  <thead>\n",
       "    <tr style=\"text-align: right;\">\n",
       "      <th></th>\n",
       "      <th>date</th>\n",
       "      <th>abstract</th>\n",
       "      <th>title</th>\n",
       "      <th>authors</th>\n",
       "      <th>subjects</th>\n",
       "      <th>venue</th>\n",
       "    </tr>\n",
       "  </thead>\n",
       "  <tbody>\n",
       "    <tr>\n",
       "      <th>0</th>\n",
       "      <td>2021-10-25 05:17:04</td>\n",
       "      <td>For a long time, bone marrow cell morphology e...</td>\n",
       "      <td>Bone Marrow Cell Recognition: Training Deep Ob...</td>\n",
       "      <td>Dehao Huang, Jintao Cheng, Rui Fan, Zhihao Su,...</td>\n",
       "      <td>Computer Vision and Pattern Recognition (cs.CV)</td>\n",
       "      <td>arxiv</td>\n",
       "    </tr>\n",
       "    <tr>\n",
       "      <th>1</th>\n",
       "      <td>2014-06-05 23:35:17</td>\n",
       "      <td>It is assumed that under suitable economic and...</td>\n",
       "      <td>Arbitrage-free exchange rate ensembles over a ...</td>\n",
       "      <td>Stan Palasek</td>\n",
       "      <td>General Economics (econ.GN); Social and Inform...</td>\n",
       "      <td>arxiv</td>\n",
       "    </tr>\n",
       "    <tr>\n",
       "      <th>2</th>\n",
       "      <td>2023-03-17 16:26:03</td>\n",
       "      <td>Physics-based covariance models provide a syst...</td>\n",
       "      <td>Scalable Physics-based Maximum Likelihood Esti...</td>\n",
       "      <td>Yian Chen, Mihai Anitescu</td>\n",
       "      <td>Computation (stat.CO); Numerical Analysis (mat...</td>\n",
       "      <td>arxiv</td>\n",
       "    </tr>\n",
       "    <tr>\n",
       "      <th>3</th>\n",
       "      <td>NaN</td>\n",
       "      <td>incorrect id format for 2210.156</td>\n",
       "      <td>Automatic extraction of materials and properti...</td>\n",
       "      <td>Luca Foppiano, Pedro Baptista de Castro, Pedro...</td>\n",
       "      <td>Computation and Language (cs.CL); Superconduct...</td>\n",
       "      <td>arxiv</td>\n",
       "    </tr>\n",
       "    <tr>\n",
       "      <th>4</th>\n",
       "      <td>2017-12-04 16:26:52</td>\n",
       "      <td>This paper presents a new isogeometric mortar ...</td>\n",
       "      <td>A segmentation-free isogeometric extended mort...</td>\n",
       "      <td>Thang Xuan Duong, Laura De Lorenzis, Roger A. ...</td>\n",
       "      <td>Computational Engineering, Finance, and Scienc...</td>\n",
       "      <td>arxiv</td>\n",
       "    </tr>\n",
       "  </tbody>\n",
       "</table>\n",
       "</div>"
      ],
      "text/plain": [
       "                  date                                           abstract  \\\n",
       "0  2021-10-25 05:17:04  For a long time, bone marrow cell morphology e...   \n",
       "1  2014-06-05 23:35:17  It is assumed that under suitable economic and...   \n",
       "2  2023-03-17 16:26:03  Physics-based covariance models provide a syst...   \n",
       "3                  NaN                   incorrect id format for 2210.156   \n",
       "4  2017-12-04 16:26:52  This paper presents a new isogeometric mortar ...   \n",
       "\n",
       "                                               title  \\\n",
       "0  Bone Marrow Cell Recognition: Training Deep Ob...   \n",
       "1  Arbitrage-free exchange rate ensembles over a ...   \n",
       "2  Scalable Physics-based Maximum Likelihood Esti...   \n",
       "3  Automatic extraction of materials and properti...   \n",
       "4  A segmentation-free isogeometric extended mort...   \n",
       "\n",
       "                                             authors  \\\n",
       "0  Dehao Huang, Jintao Cheng, Rui Fan, Zhihao Su,...   \n",
       "1                                       Stan Palasek   \n",
       "2                          Yian Chen, Mihai Anitescu   \n",
       "3  Luca Foppiano, Pedro Baptista de Castro, Pedro...   \n",
       "4  Thang Xuan Duong, Laura De Lorenzis, Roger A. ...   \n",
       "\n",
       "                                            subjects  venue  \n",
       "0    Computer Vision and Pattern Recognition (cs.CV)  arxiv  \n",
       "1  General Economics (econ.GN); Social and Inform...  arxiv  \n",
       "2  Computation (stat.CO); Numerical Analysis (mat...  arxiv  \n",
       "3  Computation and Language (cs.CL); Superconduct...  arxiv  \n",
       "4  Computational Engineering, Finance, and Scienc...  arxiv  "
      ]
     },
     "execution_count": 11,
     "metadata": {},
     "output_type": "execute_result"
    }
   ],
   "source": [
    "df1 = df.drop([\"importing_date\"], axis=1)\n",
    "df1.head()"
   ]
  },
  {
   "cell_type": "code",
   "execution_count": 12,
   "metadata": {},
   "outputs": [
    {
     "data": {
      "text/plain": [
       "date        2934\n",
       "abstract    2645\n",
       "title          0\n",
       "authors     2645\n",
       "subjects    2645\n",
       "venue          0\n",
       "dtype: int64"
      ]
     },
     "execution_count": 12,
     "metadata": {},
     "output_type": "execute_result"
    }
   ],
   "source": [
    "df1.isnull().sum()"
   ]
  },
  {
   "cell_type": "code",
   "execution_count": null,
   "metadata": {},
   "outputs": [],
   "source": [
    "record_na = df.isna().sum(axis=1)\n",
    "record_na.sort_values(ascending=False)\n",
    "df1 = df.drop(index=record_na[record_na == 4].index)"
   ]
  },
  {
   "cell_type": "markdown",
   "metadata": {},
   "source": [
    "La variabile importing_date ha un numero di missing molto elevato, superiore al 70%. In relazione agli scopi dell'analisi non sembra essere una variabile importante, quindi viene rimossa."
   ]
  },
  {
   "cell_type": "code",
   "execution_count": null,
   "metadata": {},
   "outputs": [],
   "source": [
    "df2.shape"
   ]
  },
  {
   "cell_type": "markdown",
   "metadata": {},
   "source": [
    "abbiamo sacrificato il 27% del dataset, perchè i record avevano più della metà dei field mancanti"
   ]
  },
  {
   "cell_type": "code",
   "execution_count": null,
   "metadata": {},
   "outputs": [],
   "source": [
    "df2.isnull().sum()"
   ]
  },
  {
   "cell_type": "markdown",
   "metadata": {},
   "source": [
    "Dato che i missing data di \"date\" corrispondono al 2,89% dei record, e la variabile non ha un importanza elevata, possiamo ignorarli"
   ]
  },
  {
   "cell_type": "code",
   "execution_count": null,
   "metadata": {},
   "outputs": [],
   "source": [
    "df2[df2.duplicated(keep=False)].sort_values(\"abstract\")"
   ]
  },
  {
   "cell_type": "markdown",
   "metadata": {},
   "source": [
    "Infine, rimuoviamo i record duplicati"
   ]
  },
  {
   "cell_type": "code",
   "execution_count": null,
   "metadata": {},
   "outputs": [],
   "source": [
    "df3 = df2.drop_duplicates()\n",
    "df3.shape"
   ]
  }
 ],
 "metadata": {
  "kernelspec": {
   "display_name": "Python 3",
   "language": "python",
   "name": "python3"
  },
  "language_info": {
   "codemirror_mode": {
    "name": "ipython",
    "version": 3
   },
   "file_extension": ".py",
   "mimetype": "text/x-python",
   "name": "python",
   "nbconvert_exporter": "python",
   "pygments_lexer": "ipython3",
   "version": "3.13.2"
  }
 },
 "nbformat": 4,
 "nbformat_minor": 2
}
